{
 "cells": [
  {
   "cell_type": "markdown",
   "metadata": {},
   "source": [
    "# GOOGLE stock prediction using recurrent neural network"
   ]
  },
  {
   "cell_type": "code",
   "execution_count": 170,
   "metadata": {},
   "outputs": [],
   "source": [
    "import numpy as np\n",
    "import matplotlib.pyplot as plt\n",
    "import pandas as pd\n",
    "import math, time\n",
    "import itertools\n",
    "from sklearn import preprocessing\n",
    "from datetime import datetime\n",
    "from operator import itemgetter\n",
    "from keras.models import Sequential\n",
    "from keras.layers.core import Dense, Dropout, Activation\n",
    "from keras.layers.recurrent import LSTM\n",
    "import googlefinance.client\n",
    "import requests"
   ]
  },
  {
   "cell_type": "markdown",
   "metadata": {},
   "source": [
    "DATE,CLOSE,HIGH,LOW,OPEN,VOLUME"
   ]
  },
  {
   "cell_type": "code",
   "execution_count": 195,
   "metadata": {},
   "outputs": [],
   "source": [
    "from googlefinance.client import get_price_data, get_prices_data, get_prices_time_data\n",
    "\n",
    "# Dow Jones\n",
    "param = {\n",
    "    'q': \"GOOGL\", # Stock symbol (ex: \"AAPL\")\n",
    "    'i': \"86400\", # Interval size in seconds (\"86400\" = 1 day intervals)\n",
    "    'p': \"10Y\" # Period (Ex: \"1Y\" = 1 year)\n",
    "}\n",
    "# get price data (return pandas dataframe)\n",
    "r = requests.get(\"https://finance.google.com/finance/getprices\", params=param)\n",
    "lines = r.text.splitlines()\n",
    "data = []\n",
    "index = []\n",
    "basetime = 0\n",
    "for price in lines:\n",
    "    cols = price.split(\",\")\n",
    "    if cols[0][0] == 'a':\n",
    "        basetime = int(cols[0][1:])\n",
    "        index.append(datetime.fromtimestamp(basetime).date())\n",
    "        data.append([float(cols[4]), float(cols[2]), float(cols[3]), int(cols[5]), float(cols[1])])\n",
    "    elif cols[0][0].isdigit():\n",
    "        date = basetime + (int(cols[0])*int(param['i']))\n",
    "        index.append(datetime.fromtimestamp(date).date())\n",
    "        data.append([float(cols[4]), float(cols[2]), float(cols[3]), int(cols[5]), float(cols[1])])\n",
    "df = pd.DataFrame(data, index = index, columns = ['Open', 'High', 'Low', 'Volume', 'Close'])"
   ]
  },
  {
   "cell_type": "code",
   "execution_count": 196,
   "metadata": {
    "scrolled": true
   },
   "outputs": [
    {
     "data": {
      "text/html": [
       "<div>\n",
       "<style>\n",
       "    .dataframe thead tr:only-child th {\n",
       "        text-align: right;\n",
       "    }\n",
       "\n",
       "    .dataframe thead th {\n",
       "        text-align: left;\n",
       "    }\n",
       "\n",
       "    .dataframe tbody tr th {\n",
       "        vertical-align: top;\n",
       "    }\n",
       "</style>\n",
       "<table border=\"1\" class=\"dataframe\">\n",
       "  <thead>\n",
       "    <tr style=\"text-align: right;\">\n",
       "      <th></th>\n",
       "      <th>Open</th>\n",
       "      <th>High</th>\n",
       "      <th>Low</th>\n",
       "      <th>Volume</th>\n",
       "      <th>Close</th>\n",
       "    </tr>\n",
       "  </thead>\n",
       "  <tbody>\n",
       "    <tr>\n",
       "      <th>2007-12-10</th>\n",
       "      <td>358.35</td>\n",
       "      <td>362.760</td>\n",
       "      <td>357.360</td>\n",
       "      <td>3858284</td>\n",
       "      <td>359.570</td>\n",
       "    </tr>\n",
       "    <tr>\n",
       "      <th>2007-12-11</th>\n",
       "      <td>360.33</td>\n",
       "      <td>360.855</td>\n",
       "      <td>349.739</td>\n",
       "      <td>6142422</td>\n",
       "      <td>349.952</td>\n",
       "    </tr>\n",
       "    <tr>\n",
       "      <th>2007-12-12</th>\n",
       "      <td>357.36</td>\n",
       "      <td>357.520</td>\n",
       "      <td>344.590</td>\n",
       "      <td>6166134</td>\n",
       "      <td>350.020</td>\n",
       "    </tr>\n",
       "    <tr>\n",
       "      <th>2007-12-13</th>\n",
       "      <td>348.50</td>\n",
       "      <td>349.160</td>\n",
       "      <td>340.950</td>\n",
       "      <td>5182202</td>\n",
       "      <td>347.370</td>\n",
       "    </tr>\n",
       "    <tr>\n",
       "      <th>2007-12-14</th>\n",
       "      <td>344.10</td>\n",
       "      <td>350.200</td>\n",
       "      <td>343.970</td>\n",
       "      <td>3673495</td>\n",
       "      <td>345.320</td>\n",
       "    </tr>\n",
       "  </tbody>\n",
       "</table>\n",
       "</div>"
      ],
      "text/plain": [
       "              Open     High      Low   Volume    Close\n",
       "2007-12-10  358.35  362.760  357.360  3858284  359.570\n",
       "2007-12-11  360.33  360.855  349.739  6142422  349.952\n",
       "2007-12-12  357.36  357.520  344.590  6166134  350.020\n",
       "2007-12-13  348.50  349.160  340.950  5182202  347.370\n",
       "2007-12-14  344.10  350.200  343.970  3673495  345.320"
      ]
     },
     "execution_count": 196,
     "metadata": {},
     "output_type": "execute_result"
    }
   ],
   "source": [
    "df.head()"
   ]
  },
  {
   "cell_type": "code",
   "execution_count": 197,
   "metadata": {},
   "outputs": [
    {
     "data": {
      "text/plain": [
       "(2517, 5)"
      ]
     },
     "execution_count": 197,
     "metadata": {},
     "output_type": "execute_result"
    }
   ],
   "source": [
    "df[['Open', 'High', 'Low', 'Close']] /= 1000\n",
    "df['Volume'] /= 10000000\n",
    "df.shape"
   ]
  },
  {
   "cell_type": "code",
   "execution_count": 200,
   "metadata": {},
   "outputs": [],
   "source": [
    "def load_data(stock, seq_len):\n",
    "    amount_of_features = len(stock.columns)\n",
    "    data = stock.as_matrix() #pd.DataFrame(stock)\n",
    "    sequence_length = seq_len + 1\n",
    "    result = []\n",
    "    for index in range(len(data) - sequence_length):\n",
    "        result.append(data[index: index + sequence_length])\n",
    "\n",
    "    result = np.array(result)\n",
    "    row = round(0.9 * result.shape[0])\n",
    "    train = result[:int(row), :]\n",
    "    x_train = train[:, :-1]\n",
    "    y_train = train[:, -1][:,-1]\n",
    "    x_test = result[int(row):, :-1]\n",
    "    y_test = result[int(row):, -1][:,-1]\n",
    "\n",
    "    x_train = np.reshape(x_train, (x_train.shape[0], x_train.shape[1], amount_of_features))\n",
    "    x_test = np.reshape(x_test, (x_test.shape[0], x_test.shape[1], amount_of_features))  \n",
    "\n",
    "    return [x_train, y_train, x_test, y_test]"
   ]
  },
  {
   "cell_type": "code",
   "execution_count": 201,
   "metadata": {},
   "outputs": [
    {
     "name": "stdout",
     "output_type": "stream",
     "text": [
      "X_train (2260, 5, 5)\n",
      "y_train (2260,)\n",
      "X_test (251, 5, 5)\n",
      "y_test (251,)\n"
     ]
    }
   ],
   "source": [
    "batch_size = 5\n",
    "X_train, y_train, X_test, y_test = load_data(df, batch_size)\n",
    "print(\"X_train\", X_train.shape)\n",
    "print(\"y_train\", y_train.shape)\n",
    "print(\"X_test\", X_test.shape)\n",
    "print(\"y_test\", y_test.shape)"
   ]
  },
  {
   "cell_type": "code",
   "execution_count": 202,
   "metadata": {},
   "outputs": [],
   "source": [
    "def build_model2(layers):\n",
    "        d = 0.2\n",
    "        model = Sequential()\n",
    "        model.add(LSTM(128, input_shape=(layers[1], layers[0]), return_sequences=True))\n",
    "        model.add(Dropout(d))\n",
    "        model.add(LSTM(64, input_shape=(layers[1], layers[0]), return_sequences=False))\n",
    "        model.add(Dropout(d))\n",
    "        model.add(Dense(16,kernel_initializer='uniform',activation='relu'))        \n",
    "        model.add(Dense(1,kernel_initializer='uniform',activation='relu'))\n",
    "        model.compile(loss='mse',optimizer='adam',metrics=['accuracy'])\n",
    "        return model"
   ]
  },
  {
   "cell_type": "code",
   "execution_count": 203,
   "metadata": {},
   "outputs": [],
   "source": [
    "model = build_model2([5,window,1])"
   ]
  },
  {
   "cell_type": "code",
   "execution_count": 204,
   "metadata": {},
   "outputs": [
    {
     "data": {
      "text/plain": [
       "<keras.callbacks.History at 0x20b9a9095f8>"
      ]
     },
     "execution_count": 204,
     "metadata": {},
     "output_type": "execute_result"
    }
   ],
   "source": [
    "model.fit(\n",
    "    X_train,\n",
    "    y_train,\n",
    "    batch_size=512,\n",
    "    epochs=500,\n",
    "    validation_split=0.1,\n",
    "    verbose=0)"
   ]
  },
  {
   "cell_type": "code",
   "execution_count": 205,
   "metadata": {},
   "outputs": [
    {
     "name": "stdout",
     "output_type": "stream",
     "text": [
      "Train Score: 0.00 MSE (0.01 RMSE)\n",
      "Test Score: 0.00 MSE (0.02 RMSE)\n"
     ]
    }
   ],
   "source": [
    "trainScore = model.evaluate(X_train, y_train, verbose=0)\n",
    "print('Train Score: %.2f MSE (%.2f RMSE)' % (trainScore[0], math.sqrt(trainScore[0])))\n",
    "\n",
    "testScore = model.evaluate(X_test, y_test, verbose=0)\n",
    "print('Test Score: %.2f MSE (%.2f RMSE)' % (testScore[0], math.sqrt(testScore[0])))"
   ]
  },
  {
   "cell_type": "code",
   "execution_count": 206,
   "metadata": {},
   "outputs": [],
   "source": [
    "# print(X_test[-1])\n",
    "diff=[]\n",
    "ratio=[]\n",
    "p = model.predict(X_test)\n",
    "for u in range(len(y_test)):\n",
    "    pr = p[u][0]\n",
    "    ratio.append((y_test[u]/pr)-1)\n",
    "    diff.append(abs(y_test[u]- pr))\n",
    "    #print(u, y_test[u], pr, (y_test[u]/pr)-1, abs(y_test[u]- pr))"
   ]
  },
  {
   "cell_type": "code",
   "execution_count": 207,
   "metadata": {},
   "outputs": [
    {
     "data": {
      "image/png": "[encoded data removed]",
      "text/plain": [
       "<matplotlib.figure.Figure at 0x20b9e961dd8>"
      ]
     },
     "metadata": {},
     "output_type": "display_data"
    }
   ],
   "source": [
    "import matplotlib.pyplot as plt2\n",
    "\n",
    "plt2.plot(p,color='red', label='prediction')\n",
    "plt2.plot(y_test,color='blue', label='y_test')\n",
    "plt2.legend(loc='upper left')\n",
    "plt2.show()"
   ]
  },
  {
   "cell_type": "code",
   "execution_count": null,
   "metadata": {},
   "outputs": [],
   "source": []
  }
 ],
 "metadata": {
  "kernelspec": {
   "display_name": "Python 3",
   "language": "python",
   "name": "python3"
  },
  "language_info": {
   "codemirror_mode": {
    "name": "ipython",
    "version": 3
   },
   "file_extension": ".py",
   "mimetype": "text/x-python",
   "name": "python",
   "nbconvert_exporter": "python",
   "pygments_lexer": "ipython3",
   "version": "3.6.2"
  }
 },
 "nbformat": 4,
 "nbformat_minor": 2
}
